{
 "cells": [
  {
   "cell_type": "code",
   "execution_count": 1,
   "metadata": {},
   "outputs": [
    {
     "name": "stderr",
     "output_type": "stream",
     "text": [
      "/home/miirzamiir/codes/news_title_generation/venv/lib/python3.11/site-packages/tqdm/auto.py:21: TqdmWarning: IProgress not found. Please update jupyter and ipywidgets. See https://ipywidgets.readthedocs.io/en/stable/user_install.html\n",
      "  from .autonotebook import tqdm as notebook_tqdm\n"
     ]
    }
   ],
   "source": [
    "import pandas as pd\n",
    "import torch\n",
    "from torch.utils.data import DataLoader, Dataset\n",
    "from transformers import T5Tokenizer, T5ForConditionalGeneration, AdamW\n",
    "from datasets import load_dataset\n",
    "\n",
    "\n",
    "class SummarizationDataset(Dataset):\n",
    "    def __init__(self, dataframe, tokenizer, source_len, target_len):\n",
    "        self.tokenizer = tokenizer\n",
    "        self.data = dataframe\n",
    "        self.source_len = source_len\n",
    "        self.target_len = target_len\n",
    "        self.source_text = self.data['article']\n",
    "        self.target_text = self.data['title']\n",
    "\n",
    "    def __len__(self):\n",
    "        return len(self.source_text)\n",
    "\n",
    "    def __getitem__(self, index):\n",
    "        source_text = str(self.source_text[index])\n",
    "        target_text = str(self.target_text[index])\n",
    "\n",
    "        source = self.tokenizer.batch_encode_plus(\n",
    "            [source_text],\n",
    "            max_length=self.source_len,\n",
    "            padding='max_length',\n",
    "            truncation=True,\n",
    "            return_tensors=\"pt\"\n",
    "        )\n",
    "        target = self.tokenizer.batch_encode_plus(\n",
    "            [target_text],\n",
    "            max_length=self.target_len,\n",
    "            padding='max_length',\n",
    "            truncation=True,\n",
    "            return_tensors=\"pt\"\n",
    "        )\n",
    "\n",
    "        source_ids = source[\"input_ids\"].squeeze()\n",
    "        source_mask = source[\"attention_mask\"].squeeze()\n",
    "        target_ids = target[\"input_ids\"].squeeze()\n",
    "        target_mask = target[\"attention_mask\"].squeeze()\n",
    "\n",
    "        return {\n",
    "            \"source_ids\": source_ids,\n",
    "            \"source_mask\": source_mask,\n",
    "            \"target_ids\": target_ids,\n",
    "            \"target_mask\": target_mask,\n",
    "        }\n"
   ]
  },
  {
   "cell_type": "code",
   "execution_count": 2,
   "metadata": {},
   "outputs": [],
   "source": [
    "dataset = load_dataset(\"HooshvareLab/pn_summary\")"
   ]
  },
  {
   "cell_type": "code",
   "execution_count": 3,
   "metadata": {},
   "outputs": [
    {
     "name": "stderr",
     "output_type": "stream",
     "text": [
      "You are using the default legacy behaviour of the <class 'transformers.models.t5.tokenization_t5.T5Tokenizer'>. This is expected, and simply means that the `legacy` (previous) behavior will be used so nothing changes for you. If you want to use the new behaviour, set `legacy=False`. This should only be set if you understand what it means, and thoroughly read the reason why this was added as explained in https://github.com/huggingface/transformers/pull/24565\n"
     ]
    }
   ],
   "source": [
    "tokenizer = T5Tokenizer.from_pretrained(\"google/mt5-small\")\n",
    "train_data = dataset['train']\n",
    "test_data = dataset['test']\n",
    "eval_data = dataset['validation']\n",
    "\n",
    "# Extract articles and titles\n",
    "train_articles = [train_data[i]['article'] for i in range(20000)]\n",
    "train_titles = [train_data[i]['title'] for i in range(20000)]\n",
    "test_articles = [test_data[i]['article'] for i in range(3000)]\n",
    "test_titles = [test_data[i]['title'] for i in range(3000)]\n",
    "eval_articles = [eval_data[i]['article'] for i in range(3000)]\n",
    "eval_titles = [eval_data[i]['title'] for i in range(3000)]\n",
    "\n",
    "# Create DataFrames\n",
    "train_df = pd.DataFrame({\n",
    "    'article': train_articles,\n",
    "    'title': train_titles\n",
    "})\n",
    "test_df = pd.DataFrame({\n",
    "    'article': test_articles,\n",
    "    'title': test_titles\n",
    "})\n",
    "eval_df = pd.DataFrame({\n",
    "    'article': eval_articles,\n",
    "    'title': eval_titles\n",
    "})"
   ]
  },
  {
   "cell_type": "code",
   "execution_count": 4,
   "metadata": {},
   "outputs": [
    {
     "name": "stderr",
     "output_type": "stream",
     "text": [
      "You are using a model of type mt5 to instantiate a model of type t5. This is not supported for all configurations of models and can yield errors.\n",
      "/home/miirzamiir/codes/news_title_generation/venv/lib/python3.11/site-packages/transformers/optimization.py:591: FutureWarning: This implementation of AdamW is deprecated and will be removed in a future version. Use the PyTorch implementation torch.optim.AdamW instead, or set `no_deprecation_warning=True` to disable this warning\n",
      "  warnings.warn(\n"
     ]
    }
   ],
   "source": [
    "source_len = 768\n",
    "target_len = 150\n",
    "batch_size = 8\n",
    "learning_rate = 3e-5\n",
    "epochs = 4\n",
    "\n",
    "# Create Dataset objects\n",
    "train_dataset = SummarizationDataset(train_df, tokenizer, source_len, target_len)\n",
    "test_dataset = SummarizationDataset(test_df, tokenizer, source_len, target_len)\n",
    "eval_dataset = SummarizationDataset(eval_df, tokenizer, source_len, target_len)\n",
    "\n",
    "# Create DataLoader objects\n",
    "train_loader = DataLoader(train_dataset, batch_size=batch_size, shuffle=True, num_workers=4)\n",
    "test_loader = DataLoader(test_dataset, batch_size=batch_size, shuffle=False, num_workers=4)\n",
    "eval_loader = DataLoader(eval_dataset, batch_size=batch_size, shuffle=False, num_workers=4)\n",
    "\n",
    "# Initialize the model\n",
    "model = T5ForConditionalGeneration.from_pretrained(\"google/mt5-small\")\n",
    "device = torch.device(\"cuda\" if torch.cuda.is_available() else \"cpu\")\n",
    "model = model.to(device)\n",
    "\n",
    "# Define optimizer\n",
    "optimizer = AdamW(model.parameters(), lr=learning_rate)"
   ]
  },
  {
   "cell_type": "code",
   "execution_count": null,
   "metadata": {},
   "outputs": [],
   "source": [
    "for epoch in range(epochs):\n",
    "    model.train()\n",
    "    total_loss = 0\n",
    "    for batch in train_loader:\n",
    "        optimizer.zero_grad()\n",
    "\n",
    "        input_ids = batch[\"source_ids\"].to(device, dtype=torch.long)\n",
    "        attention_mask = batch[\"source_mask\"].to(device, dtype=torch.long)\n",
    "        labels = batch[\"target_ids\"].to(device, dtype=torch.long)\n",
    "\n",
    "        outputs = model(input_ids=input_ids, attention_mask=attention_mask, labels=labels)\n",
    "        loss = outputs.loss\n",
    "\n",
    "        loss.backward()\n",
    "        optimizer.step()\n",
    "\n",
    "        total_loss += loss.item()\n",
    "\n",
    "    print(f\"Epoch {epoch + 1}, Loss: {total_loss / len(train_loader)}\")\n",
    "\n",
    "    # Evaluation loop\n",
    "    model.eval()\n",
    "    total_eval_loss = 0\n",
    "    with torch.no_grad():\n",
    "        for batch in eval_loader:\n",
    "            input_ids = batch[\"source_ids\"].to(device, dtype=torch.long)\n",
    "            attention_mask = batch[\"source_mask\"].to(device, dtype=torch.long)\n",
    "            labels = batch[\"target_ids\"].to(device, dtype=torch.long)\n",
    "\n",
    "            outputs = model(input_ids=input_ids, attention_mask=attention_mask, labels=labels)\n",
    "            loss = outputs.loss\n",
    "\n",
    "            total_eval_loss += loss.item()\n",
    "\n",
    "    print(f\"Validation Loss: {total_eval_loss / len(eval_loader)}\")\n",
    "\n",
    "print(\"Training completed.\")"
   ]
  },
  {
   "cell_type": "code",
   "execution_count": null,
   "metadata": {},
   "outputs": [],
   "source": [
    "# Prediction function\n",
    "def predict(model, tokenizer, text, device, max_length=512):\n",
    "    model.eval()\n",
    "    inputs = tokenizer.encode_plus(text, return_tensors=\"pt\", max_length=max_length, truncation=True)\n",
    "    input_ids = inputs[\"input_ids\"].to(device)\n",
    "    attention_mask = inputs[\"attention_mask\"].to(device)\n",
    "\n",
    "    with torch.no_grad():\n",
    "        outputs = model.generate(input_ids=input_ids, attention_mask=attention_mask, max_length=150, num_beams=4, early_stopping=True)\n",
    "    \n",
    "    prediction = tokenizer.decode(outputs[0], skip_special_tokens=True)\n",
    "    return prediction\n",
    "\n",
    "# Example usage\n",
    "sample_article = eval_df.iloc[0]['article']\n",
    "print(\"Article:\", sample_article)\n",
    "predicted_title = predict(model, tokenizer, sample_article, device)\n",
    "print(\"Predicted Title:\", predicted_title)"
   ]
  }
 ],
 "metadata": {
  "kernelspec": {
   "display_name": "venv",
   "language": "python",
   "name": "python3"
  },
  "language_info": {
   "codemirror_mode": {
    "name": "ipython",
    "version": 3
   },
   "file_extension": ".py",
   "mimetype": "text/x-python",
   "name": "python",
   "nbconvert_exporter": "python",
   "pygments_lexer": "ipython3",
   "version": "3.11.9"
  }
 },
 "nbformat": 4,
 "nbformat_minor": 2
}
